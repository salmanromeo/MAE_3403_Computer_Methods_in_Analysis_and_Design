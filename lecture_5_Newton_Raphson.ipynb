{
  "nbformat": 4,
  "nbformat_minor": 0,
  "metadata": {
    "colab": {
      "provenance": [],
      "authorship_tag": "ABX9TyOugW6jqfCepSOhc3wqXaZD",
      "include_colab_link": true
    },
    "kernelspec": {
      "name": "python3",
      "display_name": "Python 3"
    },
    "language_info": {
      "name": "python"
    }
  },
  "cells": [
    {
      "cell_type": "markdown",
      "metadata": {
        "id": "view-in-github",
        "colab_type": "text"
      },
      "source": [
        "<a href=\"https://colab.research.google.com/github/salmanromeo/MAE_3403_Computer_Methods_in_Analysis_and_Design/blob/main/lecture_5_Newton_Raphson.ipynb\" target=\"_parent\"><img src=\"https://colab.research.google.com/assets/colab-badge.svg\" alt=\"Open In Colab\"/></a>"
      ]
    },
    {
      "cell_type": "markdown",
      "source": [
        "**Implementation of the Fixed-point, Newton-Raphson, and Secant Method for solving a scalar system**"
      ],
      "metadata": {
        "id": "3_cyH1bXx-Ji"
      }
    },
    {
      "cell_type": "markdown",
      "source": [
        "#####Solve the equation:\n",
        "\\begin{align}\n",
        "  x -2sinx = 0\n",
        "    \\end{align}"
      ],
      "metadata": {
        "id": "kEEPi3RlyUwn"
      }
    },
    {
      "cell_type": "markdown",
      "source": [
        "**Fixed-point Method**"
      ],
      "metadata": {
        "id": "6VJ01nwjymy_"
      }
    },
    {
      "cell_type": "code",
      "source": [
        "# libraries\n",
        "import numpy as np\n",
        "\n",
        "# define Fixed-point Method\n",
        "def fixed_point_iteration(f, x0, eps=0.000001, max_iter=100):\n",
        "  x = x0.astype(np.float64) # cast x to float64\n",
        "  for i in range(max_iter):\n",
        "    x_prev = x\n",
        "    x = f(x)\n",
        "    if abs((x - x_prev)/x) < eps:\n",
        "      return x\n",
        "  print(\"Warning: maximum number of iterations exceeded.\")\n",
        "  return x\n",
        "\n",
        "# define the F(x)\n",
        "def f(x):\n",
        "  return 2*np.sin(x)\n",
        "\n",
        "# set an initial guess for the root\n",
        "x0 = np.array([1])\n",
        "\n",
        "# solve for the root using Fixed-point Method\n",
        "x = fixed_point_iteration(f, x0)\n",
        "print(\"Approximate root:\", x)"
      ],
      "metadata": {
        "colab": {
          "base_uri": "https://localhost:8080/"
        },
        "id": "JwrYdWvAy1_l",
        "outputId": "90e0845d-2dd2-4111-f343-e8d04be7d914"
      },
      "execution_count": 1,
      "outputs": [
        {
          "output_type": "stream",
          "name": "stdout",
          "text": [
            "Approximate root: [1.89549375]\n"
          ]
        }
      ]
    },
    {
      "cell_type": "markdown",
      "source": [
        "**Newton-Raphson Method**"
      ],
      "metadata": {
        "id": "-by_weRH0G0n"
      }
    },
    {
      "cell_type": "code",
      "source": [
        "# libraries\n",
        "import numpy as np\n",
        "\n",
        "# define Newton-Raphson Method\n",
        "def newton_raphson_scalar(f, J, x0, eps=0.000001, max_iter=100):\n",
        "  x = x0.astype(np.float64) # cast x to float64\n",
        "  for i in range(max_iter):\n",
        "    fx = f(x)\n",
        "    Jx = J(x)\n",
        "    dx = -fx / Jx\n",
        "    x += dx\n",
        "    if abs(dx) < eps:\n",
        "      return x\n",
        "  print(\"Warning: maximum number of iterations exceeded.\")\n",
        "  return x\n",
        "\n",
        "# define the F(x)\n",
        "def f(x):\n",
        "  return x - 2*np.sin(x)\n",
        "\n",
        "# define its Jacobian J(x)\n",
        "def J(x):\n",
        "  return 1 - 2*np.cos(x)\n",
        "\n",
        "# set an initial guess for the root\n",
        "x0 = np.array([1])\n",
        "\n",
        "# solve for the root using Newton-Raphson Method\n",
        "x = newton_raphson_scalar(f, J, x0)\n",
        "print(\"Approximate root:\", x)"
      ],
      "metadata": {
        "colab": {
          "base_uri": "https://localhost:8080/"
        },
        "id": "QU9G2f3V0D9F",
        "outputId": "65d7bbb4-5058-402f-e7b4-91b8433c8b1d"
      },
      "execution_count": 2,
      "outputs": [
        {
          "output_type": "stream",
          "name": "stdout",
          "text": [
            "Approximate root: [1.89549427]\n"
          ]
        }
      ]
    },
    {
      "cell_type": "markdown",
      "source": [
        "**Secant Method**"
      ],
      "metadata": {
        "id": "qA6YPPJS150n"
      }
    },
    {
      "cell_type": "code",
      "source": [
        "# libraries\n",
        "import numpy as np\n",
        "\n",
        "# define Secant Method\n",
        "def secant_method(f, x0, x1, eps=0.000001, max_iter=100):\n",
        "  x0 = np.float64(x0)\n",
        "  x1 = np.float64(x1)\n",
        "  for i in range(max_iter):\n",
        "    fx0 = f(x0)\n",
        "    fx1 = f(x1)\n",
        "    x2 = x1 - fx1*(x1 - x0)/(fx1 - fx0)\n",
        "    if abs((x2 - x1)/x2) < eps:\n",
        "      return x2\n",
        "  x0 = x1\n",
        "  x1 = x2\n",
        "  print(\"Warning: maximum number of iterations exceeded.\")\n",
        "  return x2\n",
        "\n",
        "# define the F(x)\n",
        "def f(x):\n",
        "  return x - 2*np.sin(x)\n",
        "\n",
        "# set an initial guess for the root\n",
        "x0 = np.array([1])\n",
        "x1 = np.array([1.9])\n",
        "\n",
        "# solve for the root using Secant Method\n",
        "x = secant_method(f, x0, x1)\n",
        "print(\"Approximate root:\", x)"
      ],
      "metadata": {
        "colab": {
          "base_uri": "https://localhost:8080/"
        },
        "id": "P6UW9m-88aQG",
        "outputId": "541ae93b-f8ce-470a-a011-3903157036b2"
      },
      "execution_count": 3,
      "outputs": [
        {
          "output_type": "stream",
          "name": "stdout",
          "text": [
            "Warning: maximum number of iterations exceeded.\n",
            "Approximate root: 1.8903528335989328\n"
          ]
        }
      ]
    },
    {
      "cell_type": "markdown",
      "source": [
        "**Implementation of the Newton-Raphson method for solving a system of nonlinear equations**"
      ],
      "metadata": {
        "id": "LznKJjR7TVGg"
      }
    },
    {
      "cell_type": "markdown",
      "source": [
        "#####Write a code that solves a system of nonlinear equations using the Newton-Raphson method.\n",
        "#####The system of equations can be defined in the function $F(x)$ which is a vector-valued function. It consists of the following four equations:\n",
        "\\begin{align}\n",
        "  {x_0}^2 + {x_1}^2 - 1 = 0 \\\\[1em]\n",
        "  {x_0} - {x_1}^2 = 0 \\\\[1em]\n",
        "  {x_2} + {x_3}^3 - 1 = 0 \\\\[1em]\n",
        "  {x_2}^2 - {x_3} = 0\n",
        "    \\end{align}\n",
        "#####Here, the vector $F(x)$ is defined as:\n",
        "\\begin{align}\n",
        "F(x) = \\begin{bmatrix}   {x_0}^2 + {x_1}^2 - 1  \\\\\n",
        "  {x_0} - {x_1}^2  \\\\\n",
        "  {x_2} + {x_3}^3 - 1  \\\\\n",
        "  {x_2}^2 - {x_3} \n",
        "\\end{bmatrix}\n",
        "    \\end{align}\n",
        "#####where\n",
        "\\begin{align}\n",
        "x = \\begin{bmatrix}   \n",
        "  {x_0} \\\\\n",
        "  {x_1} \\\\\n",
        "  {x_2} \\\\\n",
        "  {x_3} \n",
        "\\end{bmatrix}\n",
        "\\end{align}\n",
        "#####Note: The Jacobian matrix of the system of equations can be defined in the function $J(x)$ which is a function that takes a NumPy array $x$ as input and returns a NumPy array of shape $(4, 4)$. The Jacobian matrix is used to compute the Newton-Raphson update for the current approximation $x$ in each iteration of the method.\n",
        "#####The Jacobian matrix of the system of equations can be found by taking the partial derivatives of each equation with respect to each variable.\n",
        "\\begin{align}\n",
        "  \\begin{bmatrix}\\frac{\\partial f_1}{\\partial x_1}(x) & \\frac{\\partial f_1}{\\partial x_2}(x) & \\cdots & \\frac{\\partial f_1}{\\partial x_n}(x) \\\\\n",
        "\\frac{\\partial f_2}{\\partial x_1}(x) & \\frac{\\partial f_2}{\\partial x_2}(x) & \\cdots & \\frac{\\partial f_2}{\\partial x_n}(x) \\\\\n",
        "\\vdots & \\vdots & \\ddots & \\vdots \\\\\n",
        "\\frac{\\partial f_n}{\\partial x_1}(x) & \\frac{\\partial f_n}{\\partial x_2}(x) & \\cdots & \\frac{\\partial f_n}{\\partial x_n}(x)\n",
        "\\end{bmatrix}\n",
        "    \\end{align}\n",
        "#####The $(i, j)$-th element of the Jacobian matrix is given by the partial derivative of the $i$-th equation with respect to the $j$-th variable.\n",
        "#####In this case, we have four equations with four variables, so the Jacobian matrix will be a $4$x$4$ matrix. For example, the first row of the Jacobian matrix is:\n",
        "\\begin{align}\n",
        "  {J_1} =  \\begin{pmatrix}\\frac{\\partial F_1} {\\partial x_0} & \\frac{\\partial F_1} {\\partial x_1} & \\frac{\\partial F_1} {\\partial x_2} & \\frac{\\partial F_1} {\\partial x_3}\n",
        "  \\end{pmatrix}\n",
        "    \\end{align}\n",
        "#####where,\n",
        "\\begin{align}\n",
        "  {F_1} = {x_0}^2 + {x_1}^2 - 1\n",
        "    \\end{align}\n",
        "#####Taking the partial derivatives, we get:\n",
        "\\begin{align}\n",
        "  \\frac{\\partial F_1} {\\partial x_0} = 2{x_0} \\\\[1em]\n",
        "  \\frac{\\partial F_1} {\\partial x_1} = 2{x_1} \\\\[1em]\n",
        "  \\frac{\\partial F_1} {\\partial x_2} = 0 \\\\[1em]\n",
        "  \\frac{\\partial F_1} {\\partial x_3} = 0\n",
        "    \\end{align}\n",
        "#####Therefore, the first row of the Jacobian matrix is:\n",
        "\\begin{align}\n",
        "{J_1} = \\begin{pmatrix}\n",
        "2{x_0} & 2{x_1} & 0 & 0\n",
        "\\end{pmatrix}\n",
        "\\end{align}\n",
        "#####Similarly, the other rows of the Jacobian matrix can be obtained by taking the partial derivatives of the remaining equations with respect to each variable.\n",
        "\\begin{align}\n",
        "{J(x)} = \\begin{pmatrix}\n",
        "2{x_0} & 2{x_1} & 0 & 0 \\\\\n",
        "1 & -2{x_1} & 0 & 0 \\\\\n",
        "0 & 0 & 1 & 3{x_3}^2 \\\\\n",
        "0 & 0 & 2{x_2} & -1\n",
        "\\end{pmatrix}\n",
        "\\end{align}\n",
        "#####Finally, Newton-Raphson method can be written as:\n",
        "\\begin{align}\n",
        "  {x^{n+1}} = x^{n} - J^{-1}(x^{n}){F(x^{n})}\n",
        "\\end{align}\n",
        "#####where $J^{-1}(x^{n})$ is the inverse of the Jacobian matrix.\n",
        "#####So, it can be written as follows:\n",
        "\\begin{align}\n",
        "  {x^{n+1}} - x^{n} = - J^{-1}(x^{n}){F(x^{n})} \\\\[1em]\n",
        "  \\frac{{x^{n+1}} - x^{n}}{J^{-1}(x^{n})} = -{F(x^{n})} \\\\[1em]\n",
        "  {dx}{J(x^{n})} = -{F(x^{n})}\n",
        "\\end{align}"
      ],
      "metadata": {
        "id": "_h1ZzGmZ_B--"
      }
    },
    {
      "cell_type": "code",
      "execution_count": 4,
      "metadata": {
        "colab": {
          "base_uri": "https://localhost:8080/"
        },
        "id": "Nw5XOyy6-zds",
        "outputId": "b82c824b-89ec-4f59-c812-c1343fb04549"
      },
      "outputs": [
        {
          "output_type": "stream",
          "name": "stdout",
          "text": [
            "Approximate root: [0.61803399 0.78615138 0.7780896  0.60542342]\n",
            "Residuals: [-1.11022302e-16  0.00000000e+00  0.00000000e+00  1.11022302e-16]\n"
          ]
        }
      ],
      "source": [
        "# libraries\n",
        "import numpy as np\n",
        "\n",
        "# define Newton-Raphson Method\n",
        "def newton_raphson(F, J, x0, eps=0.000001, max_iter=100):\n",
        "    \"\"\"\n",
        "    Implements the Newton-Raphson method for solving a system of nonlinear vector equations.\n",
        "\n",
        "    Parameters\n",
        "    ----------\n",
        "    F : function\n",
        "        The vector-valued function F(x) whose roots are to be found.\n",
        "        This function should take a NumPy array x as input and return a NumPy array of the same shape as x.\n",
        "\n",
        "    J : function\n",
        "        The Jacobian matrix of F(x), i.e., the matrix of partial derivatives of the components of F(x) with respect to the components of x.\n",
        "        This function should take a NumPy array x as input and return a NumPy array of shape (n, n), where n is the length of x.\n",
        "\n",
        "    x0 : ndarray\n",
        "        The initial guess for the root(s) of F(x).\n",
        "\n",
        "    eps : float, optional\n",
        "        The tolerance for convergence. The iteration stops when the norm of the change in x falls below this value. Default is 1e-6.\n",
        "\n",
        "    max_iter : int, optional\n",
        "        The maximum number of iterations. Default is 100.\n",
        "\n",
        "    Returns\n",
        "    -------\n",
        "    x : ndarray\n",
        "        The approximate root(s) of F(x).\n",
        "    \"\"\"\n",
        "    \n",
        "    x = x0.astype(np.float64)  # cast x to float64\n",
        "    for i in range(max_iter):\n",
        "        Fx = F(x)\n",
        "        Jx = J(x)\n",
        "        dx = np.linalg.solve(Jx, -Fx)\n",
        "        x += dx\n",
        "        if np.linalg.norm(dx) < eps:\n",
        "            return x\n",
        "    print(\"Warning: maximum number of iterations exceeded.\")\n",
        "\n",
        "    return x\n",
        "\n",
        "# define the vector-valued function F(x)\n",
        "def F(x):\n",
        "    return np.array([\n",
        "        x[0]**2 + x[1]**2 - 1,\n",
        "        x[0] - x[1]**2,\n",
        "        x[2] + x[3]**3 - 1,\n",
        "        x[2]**2 - x[3]\n",
        "    ])\n",
        "\n",
        "# define its Jacobian J(x)\n",
        "def J(x):\n",
        "    return np.array([\n",
        "        [2*x[0], 2*x[1], 0, 0],\n",
        "        [1, -2*x[1], 0, 0],\n",
        "        [0, 0, 1, 3*x[3]**2],\n",
        "        [0, 0, 2*x[2], -1]\n",
        "    ])\n",
        "\n",
        "# set an initial guess for the root\n",
        "x0 = np.array([1, 1, 1, 1])\n",
        "\n",
        "# solve for the root using the Newton-Raphson method\n",
        "x = newton_raphson(F, J, x0)\n",
        "\n",
        "print(\"Approximate root:\", x)\n",
        "print(\"Residuals:\", F(x))"
      ]
    }
  ]
}